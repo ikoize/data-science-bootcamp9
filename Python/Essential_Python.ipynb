{
  "nbformat": 4,
  "nbformat_minor": 0,
  "metadata": {
    "colab": {
      "provenance": [],
      "authorship_tag": "ABX9TyOpOGbl5tQnNiUQBi70QlC/",
      "include_colab_link": true
    },
    "kernelspec": {
      "name": "python3",
      "display_name": "Python 3"
    },
    "language_info": {
      "name": "python"
    }
  },
  "cells": [
    {
      "cell_type": "markdown",
      "metadata": {
        "id": "view-in-github",
        "colab_type": "text"
      },
      "source": [
        "<a href=\"https://colab.research.google.com/github/ikoize/data-science-bootcamp9/blob/main/Python/Essential_Python.ipynb\" target=\"_parent\"><img src=\"https://colab.research.google.com/assets/colab-badge.svg\" alt=\"Open In Colab\"/></a>"
      ]
    },
    {
      "cell_type": "markdown",
      "source": [
        "#**HW1 - API Starwars**"
      ],
      "metadata": {
        "id": "GYVuv2WXDzY-"
      }
    },
    {
      "cell_type": "code",
      "source": [
        "from requests import get\n",
        "from time import sleep\n",
        "import pandas as pd\n",
        "import requests\n",
        "\n",
        "url = \"https://swapi.dev/api/people/\"\n",
        "\n",
        "cols_list = []\n",
        "\n",
        "for i in range(5):\n",
        "    index = i + 1\n",
        "    new_url = url + str(index)\n",
        "    resp = get(new_url).json()\n",
        "\n",
        "    cols_list.append([resp['name'], resp['height'],resp['mass'],resp['gender'], resp['homeworld']] )\n",
        "\n",
        "    data = pd.DataFrame(cols_list)\n",
        "    data.replace('n/a', 'unknown', inplace=True)\n",
        "    data.columns =['Name', 'Height', 'Weight', 'Gender', 'Homeworld']\n",
        "\n",
        "\n",
        "print(data)\n",
        "sleep(1)\n"
      ],
      "metadata": {
        "colab": {
          "base_uri": "https://localhost:8080/"
        },
        "id": "cxCN1OAF3eaI",
        "outputId": "797c1461-5510-4611-807c-8840595094f2"
      },
      "execution_count": null,
      "outputs": [
        {
          "output_type": "stream",
          "name": "stdout",
          "text": [
            "             Name Height Weight   Gender                         Homeworld\n",
            "0  Luke Skywalker    172     77     male  https://swapi.dev/api/planets/1/\n",
            "1           C-3PO    167     75  unknown  https://swapi.dev/api/planets/1/\n",
            "2           R2-D2     96     32  unknown  https://swapi.dev/api/planets/8/\n",
            "3     Darth Vader    202    136     male  https://swapi.dev/api/planets/1/\n",
            "4     Leia Organa    150     49   female  https://swapi.dev/api/planets/2/\n"
          ]
        }
      ]
    },
    {
      "cell_type": "code",
      "source": [
        "data.to_csv(\"starwars.csv\")"
      ],
      "metadata": {
        "id": "f0B1l-ZtJm9w"
      },
      "execution_count": null,
      "outputs": []
    }
  ]
}