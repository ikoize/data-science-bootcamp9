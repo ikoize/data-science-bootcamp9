{
  "nbformat": 4,
  "nbformat_minor": 0,
  "metadata": {
    "colab": {
      "provenance": [],
      "authorship_tag": "ABX9TyPSzlIdOEL5gIvftcrO4AFH",
      "include_colab_link": true
    },
    "kernelspec": {
      "name": "python3",
      "display_name": "Python 3"
    },
    "language_info": {
      "name": "python"
    }
  },
  "cells": [
    {
      "cell_type": "markdown",
      "metadata": {
        "id": "view-in-github",
        "colab_type": "text"
      },
      "source": [
        "<a href=\"https://colab.research.google.com/github/ikoize/data-science-bootcamp9/blob/main/Python/Object_Oriented_Programming%20.ipynb\" target=\"_parent\"><img src=\"https://colab.research.google.com/assets/colab-badge.svg\" alt=\"Open In Colab\"/></a>"
      ]
    },
    {
      "cell_type": "code",
      "execution_count": null,
      "metadata": {
        "id": "OIi7hiG3YgQ6"
      },
      "outputs": [],
      "source": [
        "class DataAnalys():\n",
        "    def __init__(self, name, age, position, skill):\n",
        "        self.name = name\n",
        "        self.age = age\n",
        "        self.position = position\n",
        "        self.skill = skill\n",
        "\n",
        "    def hello(self):\n",
        "        print(f\"Hello my name is {self.name}, I'm {self.position}.\")\n",
        "\n",
        "    def ability(self):\n",
        "        print(f\"Skills I'm good at {self.skill}\")\n",
        "\n",
        "    def old(self,year):\n",
        "        self.age += year\n",
        "        print(f\"In {year} years I will be {self.age} years old. \")\n",
        "\n",
        "\n",
        "da1 = DataAnalys(\"Mark\", 23, \"Data Science\", \"Excel, Vlookup.\")\n"
      ]
    },
    {
      "cell_type": "code",
      "source": [
        "da1.hello()\n",
        "da1.ability()\n",
        "da1.old(5)"
      ],
      "metadata": {
        "colab": {
          "base_uri": "https://localhost:8080/"
        },
        "id": "oioghvvZl9TW",
        "outputId": "53ed387a-5b94-4ce9-e0c1-a3a294d4daa3"
      },
      "execution_count": null,
      "outputs": [
        {
          "output_type": "stream",
          "name": "stdout",
          "text": [
            "Hello my name is Mark, I'm Data Science.\n",
            "Skills I'm good at Excel, Vlookup.\n",
            "In 5 years I will be 28 years old. \n"
          ]
        }
      ]
    }
  ]
}